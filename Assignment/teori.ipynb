{
 "cells": [
  {
   "cell_type": "markdown",
   "metadata": {},
   "source": [
    "## Problem 1"
   ]
  },
  {
   "cell_type": "code",
   "execution_count": 26,
   "metadata": {},
   "outputs": [
    {
     "data": {
      "text/latex": [
       "$\\displaystyle \\left[\\begin{matrix}0 & 0 & 0 & 0\\\\\\theta_{0} & 0.05 & 0 & \\frac{\\pi}{2}\\\\\\theta_{1} + \\frac{\\pi}{2} & 0 & 0.093 & 0\\\\\\theta_{2} & 0 & 0.093 & 0\\\\\\theta_{3} & 0 & 0 & 0\\end{matrix}\\right]$"
      ],
      "text/plain": [
       "Matrix([\n",
       "[            0,    0,     0,    0],\n",
       "[       theta0, 0.05,     0, pi/2],\n",
       "[theta1 + pi/2,    0, 0.093,    0],\n",
       "[       theta2,    0, 0.093,    0],\n",
       "[       theta3,    0,     0,    0]])"
      ]
     },
     "metadata": {},
     "output_type": "display_data"
    }
   ],
   "source": [
    "import sympy as sp\n",
    "from sympy import sin, cos, pi\n",
    "import numpy as np\n",
    "\n",
    "theta0, theta1, theta2, theta3, theta4, theta5 = sp.symbols('theta0 theta1 theta2 theta3 theta4 theta5')\n",
    "d0, d1, d2, d3, d4, d5 = sp.symbols('d0 d1 d2 d3 d4 d5')\n",
    "a0, a1, a2, a3, a4, a5 = sp.symbols('a0 a1 a2 a3 a4 a5')\n",
    "alpha0, alpha1, alpha2, alpha3, alpha4, alpha5 = sp.symbols('alpha0 alpha1 alpha2 alpha3 alpha4 alpha5')\n",
    "\n",
    "theta_0, d_0, a_0, alpha_0 = theta0, 50e-3, 0, pi/2\n",
    "theta_1, d_1, a_1, alpha_1 = theta1 + pi/2, 0, 93e-3, 0\n",
    "theta_2, d_2, a_2, alpha_2 = theta2, 0, 93e-3, 0\n",
    "theta_3, d_3, a_3, alpha_3 = theta3, 0, 0, 0\n",
    "\n",
    "theta = [theta_0, theta_1, theta_2, theta_3]\n",
    "d = [d_0, d_1, d_2, d_3]\n",
    "a = [a_0, a_1, a_2, a_3]\n",
    "alpha = [alpha_0, alpha_1, alpha_2, alpha_3]\n",
    "\n",
    "# Rød=x, Grøn=y, Blå=z\n",
    "joint_matrix = sp.Matrix([\n",
    "                 [0, 0, 0, 0],\n",
    "                 [theta_0, d_0, a_0, alpha_0],\n",
    "                 [theta_1, d_1, a_1, alpha_1],\n",
    "                 [theta_2, d_2, a_2, alpha_2],\n",
    "                 [theta_3, d_3, a_3, alpha_3]])\n",
    "\n",
    "display(joint_matrix)\n"
   ]
  },
  {
   "cell_type": "code",
   "execution_count": 27,
   "metadata": {},
   "outputs": [
    {
     "data": {
      "text/latex": [
       "$\\displaystyle \\left[\\begin{matrix}\\left(\\sin{\\left(\\theta_{1} \\right)} \\sin{\\left(\\theta_{2} \\right)} \\cos{\\left(\\theta_{0} \\right)} - \\cos{\\left(\\theta_{0} \\right)} \\cos{\\left(\\theta_{1} \\right)} \\cos{\\left(\\theta_{2} \\right)}\\right) \\sin{\\left(\\theta_{3} \\right)} + \\left(- \\sin{\\left(\\theta_{1} \\right)} \\cos{\\left(\\theta_{0} \\right)} \\cos{\\left(\\theta_{2} \\right)} - \\sin{\\left(\\theta_{2} \\right)} \\cos{\\left(\\theta_{0} \\right)} \\cos{\\left(\\theta_{1} \\right)}\\right) \\cos{\\left(\\theta_{3} \\right)} & \\left(\\sin{\\left(\\theta_{1} \\right)} \\sin{\\left(\\theta_{2} \\right)} \\cos{\\left(\\theta_{0} \\right)} - \\cos{\\left(\\theta_{0} \\right)} \\cos{\\left(\\theta_{1} \\right)} \\cos{\\left(\\theta_{2} \\right)}\\right) \\cos{\\left(\\theta_{3} \\right)} - \\left(- \\sin{\\left(\\theta_{1} \\right)} \\cos{\\left(\\theta_{0} \\right)} \\cos{\\left(\\theta_{2} \\right)} - \\sin{\\left(\\theta_{2} \\right)} \\cos{\\left(\\theta_{0} \\right)} \\cos{\\left(\\theta_{1} \\right)}\\right) \\sin{\\left(\\theta_{3} \\right)} & \\sin{\\left(\\theta_{0} \\right)} & 0.05 \\left(\\sin{\\left(\\theta_{1} \\right)} \\sin{\\left(\\theta_{2} \\right)} \\cos{\\left(\\theta_{0} \\right)} - \\cos{\\left(\\theta_{0} \\right)} \\cos{\\left(\\theta_{1} \\right)} \\cos{\\left(\\theta_{2} \\right)}\\right) \\sin{\\left(\\theta_{3} \\right)} + 0.05 \\left(- \\sin{\\left(\\theta_{1} \\right)} \\cos{\\left(\\theta_{0} \\right)} \\cos{\\left(\\theta_{2} \\right)} - \\sin{\\left(\\theta_{2} \\right)} \\cos{\\left(\\theta_{0} \\right)} \\cos{\\left(\\theta_{1} \\right)}\\right) \\cos{\\left(\\theta_{3} \\right)} - 0.093 \\sin{\\left(\\theta_{1} \\right)} \\cos{\\left(\\theta_{0} \\right)} \\cos{\\left(\\theta_{2} \\right)} - 0.093 \\sin{\\left(\\theta_{1} \\right)} \\cos{\\left(\\theta_{0} \\right)} - 0.093 \\sin{\\left(\\theta_{2} \\right)} \\cos{\\left(\\theta_{0} \\right)} \\cos{\\left(\\theta_{1} \\right)}\\\\\\left(\\sin{\\left(\\theta_{0} \\right)} \\sin{\\left(\\theta_{1} \\right)} \\sin{\\left(\\theta_{2} \\right)} - \\sin{\\left(\\theta_{0} \\right)} \\cos{\\left(\\theta_{1} \\right)} \\cos{\\left(\\theta_{2} \\right)}\\right) \\sin{\\left(\\theta_{3} \\right)} + \\left(- \\sin{\\left(\\theta_{0} \\right)} \\sin{\\left(\\theta_{1} \\right)} \\cos{\\left(\\theta_{2} \\right)} - \\sin{\\left(\\theta_{0} \\right)} \\sin{\\left(\\theta_{2} \\right)} \\cos{\\left(\\theta_{1} \\right)}\\right) \\cos{\\left(\\theta_{3} \\right)} & \\left(\\sin{\\left(\\theta_{0} \\right)} \\sin{\\left(\\theta_{1} \\right)} \\sin{\\left(\\theta_{2} \\right)} - \\sin{\\left(\\theta_{0} \\right)} \\cos{\\left(\\theta_{1} \\right)} \\cos{\\left(\\theta_{2} \\right)}\\right) \\cos{\\left(\\theta_{3} \\right)} - \\left(- \\sin{\\left(\\theta_{0} \\right)} \\sin{\\left(\\theta_{1} \\right)} \\cos{\\left(\\theta_{2} \\right)} - \\sin{\\left(\\theta_{0} \\right)} \\sin{\\left(\\theta_{2} \\right)} \\cos{\\left(\\theta_{1} \\right)}\\right) \\sin{\\left(\\theta_{3} \\right)} & - \\cos{\\left(\\theta_{0} \\right)} & 0.05 \\left(\\sin{\\left(\\theta_{0} \\right)} \\sin{\\left(\\theta_{1} \\right)} \\sin{\\left(\\theta_{2} \\right)} - \\sin{\\left(\\theta_{0} \\right)} \\cos{\\left(\\theta_{1} \\right)} \\cos{\\left(\\theta_{2} \\right)}\\right) \\sin{\\left(\\theta_{3} \\right)} + 0.05 \\left(- \\sin{\\left(\\theta_{0} \\right)} \\sin{\\left(\\theta_{1} \\right)} \\cos{\\left(\\theta_{2} \\right)} - \\sin{\\left(\\theta_{0} \\right)} \\sin{\\left(\\theta_{2} \\right)} \\cos{\\left(\\theta_{1} \\right)}\\right) \\cos{\\left(\\theta_{3} \\right)} - 0.093 \\sin{\\left(\\theta_{0} \\right)} \\sin{\\left(\\theta_{1} \\right)} \\cos{\\left(\\theta_{2} \\right)} - 0.093 \\sin{\\left(\\theta_{0} \\right)} \\sin{\\left(\\theta_{1} \\right)} - 0.093 \\sin{\\left(\\theta_{0} \\right)} \\sin{\\left(\\theta_{2} \\right)} \\cos{\\left(\\theta_{1} \\right)}\\\\\\left(- \\sin{\\left(\\theta_{1} \\right)} \\sin{\\left(\\theta_{2} \\right)} + \\cos{\\left(\\theta_{1} \\right)} \\cos{\\left(\\theta_{2} \\right)}\\right) \\cos{\\left(\\theta_{3} \\right)} + \\left(- \\sin{\\left(\\theta_{1} \\right)} \\cos{\\left(\\theta_{2} \\right)} - \\sin{\\left(\\theta_{2} \\right)} \\cos{\\left(\\theta_{1} \\right)}\\right) \\sin{\\left(\\theta_{3} \\right)} & - \\left(- \\sin{\\left(\\theta_{1} \\right)} \\sin{\\left(\\theta_{2} \\right)} + \\cos{\\left(\\theta_{1} \\right)} \\cos{\\left(\\theta_{2} \\right)}\\right) \\sin{\\left(\\theta_{3} \\right)} + \\left(- \\sin{\\left(\\theta_{1} \\right)} \\cos{\\left(\\theta_{2} \\right)} - \\sin{\\left(\\theta_{2} \\right)} \\cos{\\left(\\theta_{1} \\right)}\\right) \\cos{\\left(\\theta_{3} \\right)} & 0 & 0.05 \\left(- \\sin{\\left(\\theta_{1} \\right)} \\sin{\\left(\\theta_{2} \\right)} + \\cos{\\left(\\theta_{1} \\right)} \\cos{\\left(\\theta_{2} \\right)}\\right) \\cos{\\left(\\theta_{3} \\right)} + 0.05 \\left(- \\sin{\\left(\\theta_{1} \\right)} \\cos{\\left(\\theta_{2} \\right)} - \\sin{\\left(\\theta_{2} \\right)} \\cos{\\left(\\theta_{1} \\right)}\\right) \\sin{\\left(\\theta_{3} \\right)} - 0.093 \\sin{\\left(\\theta_{1} \\right)} \\sin{\\left(\\theta_{2} \\right)} + 0.093 \\cos{\\left(\\theta_{1} \\right)} \\cos{\\left(\\theta_{2} \\right)} + 0.093 \\cos{\\left(\\theta_{1} \\right)} + 0.05\\\\0 & 0 & 0 & 1\\end{matrix}\\right]$"
      ],
      "text/plain": [
       "Matrix([\n",
       "[(sin(theta1)*sin(theta2)*cos(theta0) - cos(theta0)*cos(theta1)*cos(theta2))*sin(theta3) + (-sin(theta1)*cos(theta0)*cos(theta2) - sin(theta2)*cos(theta0)*cos(theta1))*cos(theta3), (sin(theta1)*sin(theta2)*cos(theta0) - cos(theta0)*cos(theta1)*cos(theta2))*cos(theta3) - (-sin(theta1)*cos(theta0)*cos(theta2) - sin(theta2)*cos(theta0)*cos(theta1))*sin(theta3),  sin(theta0), 0.05*(sin(theta1)*sin(theta2)*cos(theta0) - cos(theta0)*cos(theta1)*cos(theta2))*sin(theta3) + 0.05*(-sin(theta1)*cos(theta0)*cos(theta2) - sin(theta2)*cos(theta0)*cos(theta1))*cos(theta3) - 0.093*sin(theta1)*cos(theta0)*cos(theta2) - 0.093*sin(theta1)*cos(theta0) - 0.093*sin(theta2)*cos(theta0)*cos(theta1)],\n",
       "[(sin(theta0)*sin(theta1)*sin(theta2) - sin(theta0)*cos(theta1)*cos(theta2))*sin(theta3) + (-sin(theta0)*sin(theta1)*cos(theta2) - sin(theta0)*sin(theta2)*cos(theta1))*cos(theta3), (sin(theta0)*sin(theta1)*sin(theta2) - sin(theta0)*cos(theta1)*cos(theta2))*cos(theta3) - (-sin(theta0)*sin(theta1)*cos(theta2) - sin(theta0)*sin(theta2)*cos(theta1))*sin(theta3), -cos(theta0), 0.05*(sin(theta0)*sin(theta1)*sin(theta2) - sin(theta0)*cos(theta1)*cos(theta2))*sin(theta3) + 0.05*(-sin(theta0)*sin(theta1)*cos(theta2) - sin(theta0)*sin(theta2)*cos(theta1))*cos(theta3) - 0.093*sin(theta0)*sin(theta1)*cos(theta2) - 0.093*sin(theta0)*sin(theta1) - 0.093*sin(theta0)*sin(theta2)*cos(theta1)],\n",
       "[                                               (-sin(theta1)*sin(theta2) + cos(theta1)*cos(theta2))*cos(theta3) + (-sin(theta1)*cos(theta2) - sin(theta2)*cos(theta1))*sin(theta3),                                               -(-sin(theta1)*sin(theta2) + cos(theta1)*cos(theta2))*sin(theta3) + (-sin(theta1)*cos(theta2) - sin(theta2)*cos(theta1))*cos(theta3),            0,                                                                             0.05*(-sin(theta1)*sin(theta2) + cos(theta1)*cos(theta2))*cos(theta3) + 0.05*(-sin(theta1)*cos(theta2) - sin(theta2)*cos(theta1))*sin(theta3) - 0.093*sin(theta1)*sin(theta2) + 0.093*cos(theta1)*cos(theta2) + 0.093*cos(theta1) + 0.05],\n",
       "[                                                                                                                                                                                 0,                                                                                                                                                                                  0,            0,                                                                                                                                                                                                                                                                                                                    1]])"
      ]
     },
     "metadata": {},
     "output_type": "display_data"
    }
   ],
   "source": [
    "T = lambda theta, d, a, alpha: sp.Matrix([[cos(theta), -sin(theta)*cos(alpha), sin(theta)*sin(alpha), a*cos(theta)],\n",
    "                                          [sin(theta), cos(theta)*cos(alpha), -cos(theta)*sin(alpha), a*sin(theta)],\n",
    "                                          [0, sin(alpha), cos(alpha), d],\n",
    "                                          [0, 0, 0, 1]])\n",
    "Translation = lambda x, y, z: sp.Matrix([[1, 0, 0, x],\n",
    "                                         [0, 1, 0, y],\n",
    "                                         [0, 0, 1, z],\n",
    "                                         [0, 0, 0, 1]])\n",
    "A = sp.Matrix([[1, 0, 0, 0],\n",
    "                                         [0, 1, 0, 0],\n",
    "                                         [0, 0, 1, 0],\n",
    "                                         [0, 0, 0, 1]])\n",
    "T_arr = [A]\n",
    "for (th, di, ai, al) in zip(theta, d, a, alpha):\n",
    "     T_arr.append(T_arr[-1]*T(th, di, ai, al))\n",
    "\n",
    "pointer = [50e-3, 0, 0]\n",
    "camera = [35e-3, 45e-3, 0]\n",
    "\n",
    "T_4 = T_arr[4] * Translation(*pointer)\n",
    "T_5 = T_arr[4] * Translation(*camera)\n",
    "\n",
    "T_arr.append(T_4)\n",
    "display(T_4)"
   ]
  },
  {
   "cell_type": "markdown",
   "metadata": {},
   "source": [
    "## Problem 2"
   ]
  },
  {
   "cell_type": "code",
   "execution_count": 28,
   "metadata": {},
   "outputs": [
    {
     "name": "stdout",
     "output_type": "stream",
     "text": [
      "[3.14159265091813, -12.4612367194736, 14.2762437581543, -6.52739601906535]\n",
      "Position\n"
     ]
    },
    {
     "data": {
      "text/latex": [
       "$\\displaystyle \\left[\\begin{matrix}0.149999997930147\\\\-4.00749979384566 \\cdot 10^{-10}\\\\0.11999998299887\\\\1\\end{matrix}\\right]$"
      ],
      "text/plain": [
       "Matrix([\n",
       "[    0.149999997930147],\n",
       "[-4.00749979384566e-10],\n",
       "[     0.11999998299887],\n",
       "[                    1]])"
      ]
     },
     "metadata": {},
     "output_type": "display_data"
    }
   ],
   "source": [
    "def get_angles(T, pos, initial_guess):\n",
    "    x_04 = T[0:3,0]\n",
    "    o_04 = T[0:3,3]\n",
    "    eq1 = sp.Eq(o_04[0], pos[0])\n",
    "    eq2 = sp.Eq(o_04[1], pos[1])\n",
    "    eq3 = sp.Eq(o_04[2], pos[2])\n",
    "    eq4 = sp.Eq(x_04[2], 0)\n",
    "    \n",
    "    # Solve numerically\n",
    "    solution = sp.nsolve((eq1, eq2, eq3, eq4), [theta0, theta1, theta2, theta3], initial_guess, tol=1e-6)\n",
    "    #convert to degrees\n",
    "    solution = [s for s in solution]\n",
    "    \n",
    "    return solution\n",
    "\n",
    "# Example usage\n",
    "initial_guess = [1, 1, 1, 1]  # Provide an initial guess for the angles\n",
    "pos = sp.Matrix([150e-3, 0, 120e-3])  # Example position\n",
    "angles = get_angles(T_4, pos, initial_guess)\n",
    "\n",
    "print(angles)\n",
    "print(\"Position\")\n",
    "display(T_4.subs({theta0: angles[0], theta1: angles[1], theta2: angles[2], theta3: angles[3]})*sp.Matrix([0, 0, 0, 1]))"
   ]
  },
  {
   "cell_type": "markdown",
   "metadata": {},
   "source": [
    "## Problem 3"
   ]
  },
  {
   "cell_type": "code",
   "execution_count": 29,
   "metadata": {},
   "outputs": [
    {
     "name": "stdout",
     "output_type": "stream",
     "text": [
      "[[0.210182586662170, -0.140623923147677, -1.66990262059900, 0.239730216951784], [0.206901182267624, -0.126700642605097, -1.62290583692430, 0.178810152734502], [0.197136011272659, -0.114583984464211, -1.57635385393667, 0.120141511605985], [0.181128550709079, -0.104422480626527, -1.53180525005302, 0.0654314038846469], [0.159294005770557, -0.0962319766926005, -1.49086392699915, 0.0162995768968490], [0.132234870489749, -0.0899264702277849, -1.45512199394789, -0.0257478626192209], [0.100749602909215, -0.0853544458337101, -1.42607870371073, -0.0593631772504577], [0.0658282883977703, -0.0823399282331527, -1.40503907385071, -0.0834173247110375], [0.0286285507911570, -0.0807250082759068, -1.39300307467962, -0.0970682438393742], [-0.00957088854224075, -0.0804074916976769, -1.39056517891334, -0.0998236561838834], [-0.0474354983200671, -0.0813656021777884, -1.39784788518305, -0.0915828394340577], [-0.0836496258639339, -0.0836633006287948, -1.41448737394712, -0.0726456522189829], [-0.116987957501476, -0.0874347229963446, -1.43967545633731, -0.0436861474612420], [-0.146372229193325, -0.0928520072285370, -1.47224588684632, -0.00569843272004000], [-0.170906521151043, -0.100084241268680, -1.51078289330137, 0.0400708077751508], [-0.189890822106877, -0.109255066679923, -1.55372924863372, 0.0921879885187460], [-0.202817863841009, -0.120403759129580, -1.59947825068022, 0.149085683014900], [-0.209361000085042, -0.133451680947076, -1.64644342530389, 0.209098779456070], [-0.209361009920126, -0.148174627959482, -1.69310730868183, 0.270485609846419], [-0.202817889013225, -0.164182286625739, -1.73805456057914, 0.331440520409983], [-0.189890851567242, -0.180908237412638, -1.77999525221174, 0.390107162829477], [-0.170906541982863, -0.197616495568710, -1.81778267361762, 0.444602842391431], [-0.146372231865828, -0.213431890162261, -1.85042769570271, 0.493063259070070], [-0.116987938905155, -0.227399972868717, -1.87710967611795, 0.533713322191768], [-0.0836495889527398, -0.238576521871139, -1.89718291604803, 0.564963111124268], [-0.0474354494047007, -0.246137569379125, -1.91017811646390, 0.585519359048125], [-0.00957083464841402, -0.249491074343742, -1.91579981780270, 0.594494565351548], [0.0286286027851985, -0.248365484092256, -1.91392240195310, 0.591491559250461], [0.0658283313348087, -0.242852566388752, -1.90458766489082, 0.576643904484679], [0.100749629651888, -0.233392779771530, -1.88800568550899, 0.550602138485623], [0.132234876155727, -0.220707244767851, -1.86455837470115, 0.514469292674103], [0.159293990800021, -0.205694448351428, -1.83480313361975, 0.469701255176278], [0.181128522273905, -0.189316521732558, -1.79947363070068, 0.417993825638344], [0.197135981429751, -0.172497699102545, -1.75947585178029, 0.361177224087939], [0.206901163445746, -0.156049110962263, -1.71587929469819, 0.301132078865554], [0.210182584109278, -0.140624097122343, -1.66990425080737, 0.239732021134818]]\n"
     ]
    }
   ],
   "source": [
    "from mpl_toolkits.mplot3d import Axes3D\n",
    "\n",
    "pc = sp.Matrix([150e-3, 0, 120e-3])\n",
    "R = 32e-3\n",
    "p_circ = [pc + R*sp.Matrix([0, cos(phi), sin(phi)]) for phi in np.linspace(0, 2*np.pi, 36)] \n",
    "\n",
    "angles_circ = []\n",
    "initial_guess = [0.210182586676604, -0.140623923276670, -1.66990262183703, 0.239730218318808]\n",
    "for p in p_circ:\n",
    "    angles_circ_temp = get_angles(T_4, p, initial_guess)\n",
    "    initial_guess = angles_circ_temp\n",
    "    angles_circ_temp = [(angle + np.pi) % (2 * np.pi) - np.pi for angle in angles_circ_temp]\n",
    "    angles_circ.append(angles_circ_temp)\n",
    "\n",
    "print(angles_circ)"
   ]
  },
  {
   "cell_type": "markdown",
   "metadata": {},
   "source": [
    "**Illustration of inverse kinematics**"
   ]
  },
  {
   "cell_type": "code",
   "execution_count": 30,
   "metadata": {},
   "outputs": [
    {
     "data": {
      "image/png": "[encoded data removed]",
      "text/plain": [
       "<Figure size 640x480 with 1 Axes>"
      ]
     },
     "metadata": {},
     "output_type": "display_data"
    }
   ],
   "source": [
    "from mpl_toolkits.mplot3d import Axes3D\n",
    "from IPython.display import display\n",
    "\n",
    "def plot_robot_from_angles(angles):\n",
    "    p1 = T_arr[1].subs({theta0: angles[0], theta1: angles[1], theta2: angles[2], theta3: angles[3]})*sp.Matrix([0, 0, 0, 1])\n",
    "    p2 = T_arr[2].subs({theta0: angles[0], theta1: angles[1], theta2: angles[2], theta3: angles[3]})*sp.Matrix([0, 0, 0, 1])\n",
    "    p3 = T_arr[3].subs({theta0: angles[0], theta1: angles[1], theta2: angles[2], theta3: angles[3]})*sp.Matrix([0, 0, 0, 1])\n",
    "    p4 = T_arr[4].subs({theta0: angles[0], theta1: angles[1], theta2: angles[2], theta3: angles[3]})*sp.Matrix([0, 0, 0, 1])\n",
    "    p5 = T_4.subs({theta0: angles[0], theta1: angles[1], theta2: angles[2], theta3: angles[3]})*sp.Matrix([0, 0, 0, 1])\n",
    "\n",
    "    import matplotlib.pyplot as plt    \n",
    "    fig = plt.figure()\n",
    "    ax = fig.add_subplot(111, projection='3d')\n",
    "\n",
    "    # Extract points\n",
    "    points = [p1, p2, p3, p4, p5]\n",
    "    x_vals = [p[0] for p in points]\n",
    "    y_vals = [p[1] for p in points]\n",
    "    z_vals = [p[2] for p in points]\n",
    "\n",
    "    # Plot points and lines\n",
    "    ax.plot(x_vals, y_vals, z_vals, marker='o', linestyle='-', color='b')\n",
    "\n",
    "    ax.set_xlabel('X')\n",
    "    ax.set_ylabel('Y')\n",
    "    ax.set_zlabel('Z')\n",
    "    ax.set_xlim([-0.15, 0.15])\n",
    "    ax.set_ylim([-0.15, 0.15])\n",
    "    ax.set_zlim([0, 0.2])\n",
    "    # Plot a plane with x=0.15\n",
    "    xx, yy = np.meshgrid(np.linspace(-0.15, 0.15, 10), np.linspace(0, 0.2, 10))\n",
    "    zz = np.zeros_like(xx) + 0.15\n",
    "    ax.plot_surface(zz, xx, yy, color='r', alpha=0.5)\n",
    "    # Plot the circle in the plane\n",
    "    x_vals = [p[0] for p in p_circ]\n",
    "    y_vals = [p[1] for p in p_circ]\n",
    "    z_vals = [p[2] for p in p_circ]\n",
    "    ax.plot(x_vals, y_vals, z_vals, 'g--', label='Circle in Plane')\n",
    "    ax.legend()\n",
    "    plt.show()\n",
    "\n",
    "    \n",
    "plot_robot_from_angles(angles_circ[0])\n",
    "\n"
   ]
  },
  {
   "cell_type": "markdown",
   "metadata": {},
   "source": [
    "## Problem 4"
   ]
  },
  {
   "cell_type": "code",
   "execution_count": 31,
   "metadata": {},
   "outputs": [],
   "source": [
    "Jac = sp.zeros(6, 4)\n",
    "o_n = T_arr[-1][:3, 3]\n",
    "for i in range(1, T_arr.__len__()-1):\n",
    "    z_i1 = T_arr[i-1][:3, 2]\n",
    "    o_i1 = T_arr[i-1][:3, 3]\n",
    "    Jac[:3, i-1] = z_i1.cross(o_n - o_i1)\n",
    "    Jac[3:, i-1] = z_i1"
   ]
  },
  {
   "cell_type": "code",
   "execution_count": 32,
   "metadata": {},
   "outputs": [
    {
     "name": "stdout",
     "output_type": "stream",
     "text": [
      "Jacobian for phi = 0\n"
     ]
    },
    {
     "data": {
      "text/latex": [
       "$\\displaystyle \\left[\\begin{matrix}-0.032 & -0.0685 & 0.0216 & 0\\\\0.15 & -0.0146 & 0.0046 & 0\\\\0 & 0.1534 & 0.1403 & 0.05\\\\0 & 0.2086 & 0.2086 & 0.2086\\\\0 & -0.978 & -0.978 & -0.978\\\\1 & 0 & 0 & 0\\end{matrix}\\right]$"
      ],
      "text/plain": [
       "Matrix([\n",
       "[-0.032, -0.0685, 0.0216,      0],\n",
       "[  0.15, -0.0146, 0.0046,      0],\n",
       "[     0,  0.1534, 0.1403,   0.05],\n",
       "[     0,  0.2086, 0.2086, 0.2086],\n",
       "[     0,  -0.978, -0.978, -0.978],\n",
       "[     1,       0,      0,      0]])"
      ]
     },
     "metadata": {},
     "output_type": "display_data"
    },
    {
     "name": "stdout",
     "output_type": "stream",
     "text": [
      "Jacobian for phi = pi/2\n"
     ]
    },
    {
     "data": {
      "text/latex": [
       "$\\displaystyle \\left[\\begin{matrix}0.0014 & -0.102 & -0.0093 & 0\\\\0.15 & 0.001 & 0.0001 & 0\\\\0 & 0.15 & 0.1425 & 0.05\\\\0 & -0.0096 & -0.0096 & -0.0096\\\\0 & -1.0 & -1.0 & -1.0\\\\1 & 0 & 0 & 0\\end{matrix}\\right]$"
      ],
      "text/plain": [
       "Matrix([\n",
       "[0.0014,  -0.102, -0.0093,       0],\n",
       "[  0.15,   0.001,  0.0001,       0],\n",
       "[     0,    0.15,  0.1425,    0.05],\n",
       "[     0, -0.0096, -0.0096, -0.0096],\n",
       "[     0,    -1.0,    -1.0,    -1.0],\n",
       "[     1,       0,       0,       0]])"
      ]
     },
     "metadata": {},
     "output_type": "display_data"
    },
    {
     "name": "stdout",
     "output_type": "stream",
     "text": [
      "Jacobian for phi = pi\n"
     ]
    },
    {
     "data": {
      "text/latex": [
       "$\\displaystyle \\left[\\begin{matrix}0.0319 & -0.0657 & 0.0243 & 0\\\\0.15 & 0.014 & -0.0052 & 0\\\\0 & 0.1533 & 0.1396 & 0.05\\\\0 & -0.2078 & -0.2078 & -0.2078\\\\0 & -0.9782 & -0.9782 & -0.9782\\\\1 & 0 & 0 & 0\\end{matrix}\\right]$"
      ],
      "text/plain": [
       "Matrix([\n",
       "[0.0319, -0.0657,  0.0243,       0],\n",
       "[  0.15,   0.014, -0.0052,       0],\n",
       "[     0,  0.1533,  0.1396,    0.05],\n",
       "[     0, -0.2078, -0.2078, -0.2078],\n",
       "[     0, -0.9782, -0.9782, -0.9782],\n",
       "[     1,       0,       0,       0]])"
      ]
     },
     "metadata": {},
     "output_type": "display_data"
    },
    {
     "name": "stdout",
     "output_type": "stream",
     "text": [
      "Jacobian for phi = 3*pi/2\n"
     ]
    },
    {
     "data": {
      "text/latex": [
       "$\\displaystyle \\left[\\begin{matrix}-0.0043 & -0.0383 & 0.0518 & 0\\\\0.15 & -0.0011 & 0.0015 & 0\\\\0 & 0.1501 & 0.1272 & 0.05\\\\0 & 0.0286 & 0.0286 & 0.0286\\\\0 & -0.9996 & -0.9996 & -0.9996\\\\1 & 0 & 0 & 0\\end{matrix}\\right]$"
      ],
      "text/plain": [
       "Matrix([\n",
       "[-0.0043, -0.0383,  0.0518,       0],\n",
       "[   0.15, -0.0011,  0.0015,       0],\n",
       "[      0,  0.1501,  0.1272,    0.05],\n",
       "[      0,  0.0286,  0.0286,  0.0286],\n",
       "[      0, -0.9996, -0.9996, -0.9996],\n",
       "[      1,       0,       0,       0]])"
      ]
     },
     "metadata": {},
     "output_type": "display_data"
    }
   ],
   "source": [
    "# Define the function to round and set small values to 0\n",
    "def round_and_zero(matrix, decimals, threshold=1e-10):\n",
    "    def process_value(x):\n",
    "        rounded_value = round(x, decimals)\n",
    "        return rounded_value if abs(rounded_value) >= threshold else 0\n",
    "    return matrix.applyfunc(process_value)\n",
    "\n",
    "# Updated print_jac function\n",
    "def print_jac(angles):\n",
    "    jacobian = Jac.subs({theta0: angles[0], theta1: angles[1], theta2: angles[2], theta3: angles[3]})\n",
    "    processed_jacobian = round_and_zero(jacobian, 4)\n",
    "    display(processed_jacobian)\n",
    "\n",
    "print(\"Jacobian for phi = 0\")\n",
    "print_jac(angles_circ[0])\n",
    "print(\"Jacobian for phi = pi/2\")\n",
    "print_jac(angles_circ[9])\n",
    "print(\"Jacobian for phi = pi\")\n",
    "print_jac(angles_circ[18])\n",
    "print(\"Jacobian for phi = 3*pi/2\")\n",
    "print_jac(angles_circ[27])"
   ]
  },
  {
   "cell_type": "markdown",
   "metadata": {},
   "source": [
    "## Problem 5"
   ]
  },
  {
   "cell_type": "code",
   "execution_count": 33,
   "metadata": {},
   "outputs": [
    {
     "data": {
      "text/latex": [
       "$\\displaystyle \\left[\\begin{matrix}-19.9981687861694\\\\-0.312254484293909\\\\0.337460519751653\\\\-0.0252060354577436\\end{matrix}\\right]$"
      ],
      "text/plain": [
       "Matrix([\n",
       "[  -19.9981687861694],\n",
       "[ -0.312254484293909],\n",
       "[  0.337460519751653],\n",
       "[-0.0252060354577436]])"
      ]
     },
     "metadata": {},
     "output_type": "display_data"
    }
   ],
   "source": [
    "angles_pi_2 = angles_circ[9]\n",
    "substitutions = {theta0: angles_pi_2[0], theta1: angles_pi_2[1], theta2: angles_pi_2[2], theta3: angles_pi_2[3]}\n",
    "jacobian_0_4 = Jac.subs(substitutions)\n",
    "\n",
    "q1, q2, q3, q4 = sp.symbols('q1 q2 q3 q4')\n",
    "q_arr = sp.Matrix([q1, q2, q3, q4])\n",
    "\n",
    "jac_arr = jacobian_0_4*q_arr\n",
    "wx, wy, wz = jac_arr[3], jac_arr[4], jac_arr[5]\n",
    "skew = sp.Matrix([[0, -wz, wy], [wz, 0, -wx], [-wy, wx, 0]])\n",
    "T_4_dot = skew*T_arr[4][:3, :3]\n",
    "\n",
    "l1 = sp.Eq(jac_arr[0], 0)\n",
    "l2 = sp.Eq(jac_arr[1], -3)\n",
    "l3 = sp.Eq(jac_arr[2], 0)\n",
    "l4 = sp.Eq(T_4_dot[2, 0].subs(substitutions), 0)\n",
    "\n",
    "# Initial guess for the variables\n",
    "initial_guess = [1, 1, 1, 1]\n",
    "\n",
    "# Solve numerically\n",
    "solution = sp.nsolve((l1, l2, l3, l4), (q1, q2, q3, q4), initial_guess)\n",
    "display(solution)\n"
   ]
  },
  {
   "cell_type": "code",
   "execution_count": 34,
   "metadata": {},
   "outputs": [
    {
     "name": "stdout",
     "output_type": "stream",
     "text": [
      "A:\n"
     ]
    },
    {
     "data": {
      "text/latex": [
       "$\\displaystyle \\left[\\begin{matrix}-0.007457 & 0.04853 & -0.09471 & 0 & 0 & 0.2102\\\\0.01181 & -0.05887 & 0.07803 & 0 & 0 & -0.1406\\\\0.0519 & -0.2597 & 0.3466 & 0 & 0 & -1.67\\\\-0.06387 & 0.3193 & -0.4255 & 0 & 0 & 0.2397\\end{matrix}\\right]$"
      ],
      "text/plain": [
       "Matrix([\n",
       "[-0.007457,  0.04853, -0.09471, 0, 0,  0.2102],\n",
       "[  0.01181, -0.05887,  0.07803, 0, 0, -0.1406],\n",
       "[   0.0519,  -0.2597,   0.3466, 0, 0,   -1.67],\n",
       "[ -0.06387,   0.3193,  -0.4255, 0, 0,  0.2397]])"
      ]
     },
     "metadata": {},
     "output_type": "display_data"
    },
    {
     "name": "stdout",
     "output_type": "stream",
     "text": [
      "B:\n"
     ]
    },
    {
     "data": {
      "text/latex": [
       "$\\displaystyle \\left[\\begin{matrix}-0.003714 & 0.00732 & 0.02024 & 0 & -0.18 & -0.009571\\\\-0.003301 & 0.01929 & -0.03316 & 0 & -0.002764 & -0.08041\\\\-0.03319 & 0.1741 & -0.2539 & 0 & 0.002531 & -1.391\\\\0.07618 & -0.3785 & 0.4983 & 0 & 0.001079 & -0.09982\\end{matrix}\\right]$"
      ],
      "text/plain": [
       "Matrix([\n",
       "[-0.003714, 0.00732,  0.02024, 0,     -0.18, -0.009571],\n",
       "[-0.003301, 0.01929, -0.03316, 0, -0.002764,  -0.08041],\n",
       "[ -0.03319,  0.1741,  -0.2539, 0,  0.002531,    -1.391],\n",
       "[  0.07618, -0.3785,   0.4983, 0,  0.001079,  -0.09982]])"
      ]
     },
     "metadata": {},
     "output_type": "display_data"
    },
    {
     "name": "stdout",
     "output_type": "stream",
     "text": [
      "C:\n"
     ]
    },
    {
     "data": {
      "text/latex": [
       "$\\displaystyle \\left[\\begin{matrix}0.0109 & -0.06574 & 0.1176 & 0 & 5.995 \\cdot 10^{-18} & -0.2094\\\\-0.008449 & 0.03977 & -0.04641 & 0 & -0.0474 & -0.1482\\\\-0.01912 & 0.08701 & -0.09314 & 0 & -0.128 & -1.693\\\\0.06717 & -0.3382 & 0.4571 & 0 & -0.03707 & 0.2705\\end{matrix}\\right]$"
      ],
      "text/plain": [
       "Matrix([\n",
       "[   0.0109, -0.06574,   0.1176, 0, 5.995e-18, -0.2094],\n",
       "[-0.008449,  0.03977, -0.04641, 0,   -0.0474, -0.1482],\n",
       "[ -0.01912,  0.08701, -0.09314, 0,    -0.128,  -1.693],\n",
       "[  0.06717,  -0.3382,   0.4571, 0,  -0.03707,  0.2705]])"
      ]
     },
     "metadata": {},
     "output_type": "display_data"
    },
    {
     "name": "stdout",
     "output_type": "stream",
     "text": [
      "D:\n"
     ]
    },
    {
     "data": {
      "text/latex": [
       "$\\displaystyle \\left[\\begin{matrix}0.000319 & 0.009646 & -0.04284 & 0 & 0.1799 & 0.02863\\\\0.02165 & -0.1087 & 0.1463 & 0 & -0.007731 & -0.2484\\\\0.04403 & -0.2196 & 0.2912 & 0 & 0.009196 & -1.914\\\\-0.06592 & 0.3296 & -0.4394 & 0 & -0.0001928 & 0.5915\\end{matrix}\\right]$"
      ],
      "text/plain": [
       "Matrix([\n",
       "[0.000319, 0.009646, -0.04284, 0,     0.1799, 0.02863],\n",
       "[ 0.02165,  -0.1087,   0.1463, 0,  -0.007731, -0.2484],\n",
       "[ 0.04403,  -0.2196,   0.2912, 0,   0.009196,  -1.914],\n",
       "[-0.06592,   0.3296,  -0.4394, 0, -0.0001928,  0.5915]])"
      ]
     },
     "metadata": {},
     "output_type": "display_data"
    },
    {
     "name": "stdout",
     "output_type": "stream",
     "text": [
      "q_A:\n"
     ]
    },
    {
     "data": {
      "text/latex": [
       "$\\displaystyle \\left[\\begin{matrix}- 0.007457 t^{5} + 0.04853 t^{4} - 0.09471 t^{3} + 0.2102\\\\0.01181 t^{5} - 0.05887 t^{4} + 0.07803 t^{3} - 0.1406\\\\0.0519 t^{5} - 0.2597 t^{4} + 0.3466 t^{3} - 1.67\\\\- 0.06387 t^{5} + 0.3193 t^{4} - 0.4255 t^{3} + 0.2397\\end{matrix}\\right]$"
      ],
      "text/plain": [
       "Matrix([\n",
       "[-0.007457*t**5 + 0.04853*t**4 - 0.09471*t**3 + 0.2102],\n",
       "[  0.01181*t**5 - 0.05887*t**4 + 0.07803*t**3 - 0.1406],\n",
       "[       0.0519*t**5 - 0.2597*t**4 + 0.3466*t**3 - 1.67],\n",
       "[   -0.06387*t**5 + 0.3193*t**4 - 0.4255*t**3 + 0.2397]])"
      ]
     },
     "metadata": {},
     "output_type": "display_data"
    },
    {
     "name": "stdout",
     "output_type": "stream",
     "text": [
      "q_B:\n"
     ]
    },
    {
     "data": {
      "text/latex": [
       "$\\displaystyle \\left[\\begin{matrix}- 0.003714 t^{5} + 0.00732 t^{4} + 0.02024 t^{3} - 0.18 t - 0.009571\\\\- 0.003301 t^{5} + 0.01929 t^{4} - 0.03316 t^{3} - 0.002764 t - 0.08041\\\\- 0.03319 t^{5} + 0.1741 t^{4} - 0.2539 t^{3} + 0.002531 t - 1.391\\\\0.07618 t^{5} - 0.3785 t^{4} + 0.4983 t^{3} + 0.001079 t - 0.09982\\end{matrix}\\right]$"
      ],
      "text/plain": [
       "Matrix([\n",
       "[   -0.003714*t**5 + 0.00732*t**4 + 0.02024*t**3 - 0.18*t - 0.009571],\n",
       "[-0.003301*t**5 + 0.01929*t**4 - 0.03316*t**3 - 0.002764*t - 0.08041],\n",
       "[     -0.03319*t**5 + 0.1741*t**4 - 0.2539*t**3 + 0.002531*t - 1.391],\n",
       "[    0.07618*t**5 - 0.3785*t**4 + 0.4983*t**3 + 0.001079*t - 0.09982]])"
      ]
     },
     "metadata": {},
     "output_type": "display_data"
    },
    {
     "name": "stdout",
     "output_type": "stream",
     "text": [
      "q_C:\n"
     ]
    },
    {
     "data": {
      "text/latex": [
       "$\\displaystyle \\left[\\begin{matrix}0.0109 t^{5} - 0.06574 t^{4} + 0.1176 t^{3} + 5.995 \\cdot 10^{-18} t - 0.2094\\\\- 0.008449 t^{5} + 0.03977 t^{4} - 0.04641 t^{3} - 0.0474 t - 0.1482\\\\- 0.01912 t^{5} + 0.08701 t^{4} - 0.09314 t^{3} - 0.128 t - 1.693\\\\0.06717 t^{5} - 0.3382 t^{4} + 0.4571 t^{3} - 0.03707 t + 0.2705\\end{matrix}\\right]$"
      ],
      "text/plain": [
       "Matrix([\n",
       "[ 0.0109*t**5 - 0.06574*t**4 + 0.1176*t**3 + 5.995e-18*t - 0.2094],\n",
       "[-0.008449*t**5 + 0.03977*t**4 - 0.04641*t**3 - 0.0474*t - 0.1482],\n",
       "[   -0.01912*t**5 + 0.08701*t**4 - 0.09314*t**3 - 0.128*t - 1.693],\n",
       "[   0.06717*t**5 - 0.3382*t**4 + 0.4571*t**3 - 0.03707*t + 0.2705]])"
      ]
     },
     "metadata": {},
     "output_type": "display_data"
    },
    {
     "name": "stdout",
     "output_type": "stream",
     "text": [
      "q_D:\n"
     ]
    },
    {
     "data": {
      "text/latex": [
       "$\\displaystyle \\left[\\begin{matrix}0.000319 t^{5} + 0.009646 t^{4} - 0.04284 t^{3} + 0.1799 t + 0.02863\\\\0.02165 t^{5} - 0.1087 t^{4} + 0.1463 t^{3} - 0.007731 t - 0.2484\\\\0.04403 t^{5} - 0.2196 t^{4} + 0.2912 t^{3} + 0.009196 t - 1.914\\\\- 0.06592 t^{5} + 0.3296 t^{4} - 0.4394 t^{3} - 0.0001928 t + 0.5915\\end{matrix}\\right]$"
      ],
      "text/plain": [
       "Matrix([\n",
       "[0.000319*t**5 + 0.009646*t**4 - 0.04284*t**3 + 0.1799*t + 0.02863],\n",
       "[   0.02165*t**5 - 0.1087*t**4 + 0.1463*t**3 - 0.007731*t - 0.2484],\n",
       "[    0.04403*t**5 - 0.2196*t**4 + 0.2912*t**3 + 0.009196*t - 1.914],\n",
       "[ -0.06592*t**5 + 0.3296*t**4 - 0.4394*t**3 - 0.0001928*t + 0.5915]])"
      ]
     },
     "metadata": {},
     "output_type": "display_data"
    }
   ],
   "source": [
    "# states\n",
    "states = sp.Matrix([angles_circ[0], angles_circ[9], angles_circ[18], angles_circ[27], angles_circ[0]])\n",
    "\n",
    "Jacobi_0 = Jac.subs({theta0: angles_circ[0][0], theta1: angles_circ[0][1], theta2: angles_circ[0][2], theta3: angles_circ[0][3]})\n",
    "Jacobi_90 = Jac.subs({theta0: angles_circ[9][0], theta1: angles_circ[9][1], theta2: angles_circ[9][2], theta3: angles_circ[9][3]})\n",
    "Jacobi_180 = Jac.subs({theta0: angles_circ[18][0], theta1: angles_circ[18][1], theta2: angles_circ[18][2], theta3: angles_circ[18][3]})\n",
    "Jacobi_270 = Jac.subs({theta0: angles_circ[27][0], theta1: angles_circ[27][1], theta2: angles_circ[27][2], theta3: angles_circ[27][3]})\n",
    "Jacobi_360 = Jacobi_0\n",
    "\n",
    "Jacobi_0 = Jacobi_0[:3, :4]\n",
    "Jacobi_90 = Jacobi_90[:3, :4]\n",
    "Jacobi_180 = Jacobi_180[:3, :4]\n",
    "Jacobi_270 = Jacobi_270[:3, :4]\n",
    "Jacobi_360 = Jacobi_360[:3, :4]\n",
    "\n",
    "t = sp.symbols('t')\n",
    "\n",
    "# defining the polynomial constants as variables\n",
    "def create_symbols(prefix):\n",
    "    return sp.Matrix([[sp.symbols(f'{prefix}{i}{j}') for j in range(5, -1, -1)] for i in range(1, 5)])\n",
    "\n",
    "A = create_symbols('A')\n",
    "B = create_symbols('B')\n",
    "C = create_symbols('C')\n",
    "D = create_symbols('D')\n",
    "\n",
    "# defining polynomial constants for the segments:\n",
    "t_vec = sp.Matrix([t**i for i in range(5, -1, -1)])\n",
    "t_vec_diff = sp.Matrix([5*t**4, 4*t**3, 3*t**2, 2*t, 1, 0])\n",
    "t_vec_diffdiff = sp.Matrix([20*t**3, 12*t**2, 6*t, 2, 0, 0])\n",
    "\n",
    "# defining equations stating boundary conditions\n",
    "\n",
    "# angular position boundaries\n",
    "eq1 = states[0,:].T - (A @ t_vec.subs(t, 0))\n",
    "eq2 = states[1,:].T - (A @ t_vec.subs(t, 2))\n",
    "eq3 = states[1,:].T - (B @ t_vec.subs(t, 0))\n",
    "eq4 = states[2,:].T - (B @ t_vec.subs(t, 2))\n",
    "eq5 = states[2,:].T - (C @ t_vec.subs(t, 0))\n",
    "eq6 = states[3,:].T - (C @ t_vec.subs(t, 2))\n",
    "eq7 = states[3,:].T - (D @ t_vec.subs(t, 0))\n",
    "eq8 = states[4,:].T - (D @ t_vec.subs(t, 2))\n",
    "\n",
    "# velocity boundaries - using jacobian\n",
    "v0  = sp.Matrix([0, 0, 0])\n",
    "v9  = sp.Matrix([0, -0.027, 0])\n",
    "v18 = sp.Matrix([0, 0, -0.027])\n",
    "v27 = sp.Matrix([0, 0.027, 0])\n",
    "v36 = sp.Matrix([0, 0, 0])\n",
    "\n",
    "# since the arm is overconstrained, we need to use the pseudoinverse:\n",
    "Jacobi_0_pseudoinv = Jacobi_0.T @ (Jacobi_0 @ Jacobi_0.T).inv()\n",
    "Jacobi_90_pseudoinv = Jacobi_90.T @ (Jacobi_90 @ Jacobi_90.T).inv()\n",
    "Jacobi_180_pseudoinv = Jacobi_180.T @ (Jacobi_180 @ Jacobi_180.T).inv()\n",
    "Jacobi_270_pseudoinv = Jacobi_270.T @ (Jacobi_270 @ Jacobi_270.T).inv()\n",
    "Jacobi_360_pseudoinv = Jacobi_360.T @ (Jacobi_360 @ Jacobi_360.T).inv()\n",
    "\n",
    "eq9  = (A @ t_vec_diff.subs(t, 0)) - Jacobi_0_pseudoinv @ v0 \n",
    "eq10 = (A @ t_vec_diff.subs(t, 2)) - Jacobi_90_pseudoinv @ v9\n",
    "eq11 = (B @ t_vec_diff.subs(t, 0)) - Jacobi_90_pseudoinv @ v9\n",
    "eq12 = (B @ t_vec_diff.subs(t, 2)) - Jacobi_180_pseudoinv @ v18\n",
    "eq13 = (C @ t_vec_diff.subs(t, 0)) - Jacobi_180_pseudoinv @ v18\n",
    "eq14 = (C @ t_vec_diff.subs(t, 2)) - Jacobi_270_pseudoinv @ v27\n",
    "eq15 = (D @ t_vec_diff.subs(t, 0)) - Jacobi_270_pseudoinv @ v27\n",
    "eq16 = (D @ t_vec_diff.subs(t, 2)) - Jacobi_360_pseudoinv @ v36\n",
    "\n",
    "# angular acceleration boundaries\n",
    "eq17 = (A @ t_vec_diffdiff.subs(t, 0)) - sp.Matrix([0, 0, 0, 0])\n",
    "eq18 = (A @ t_vec_diffdiff.subs(t, 2)) - sp.Matrix([0, 0, 0, 0])\n",
    "eq19 = (B @ t_vec_diffdiff.subs(t, 0)) - sp.Matrix([0, 0, 0, 0])\n",
    "eq20 = (B @ t_vec_diffdiff.subs(t, 2)) - sp.Matrix([0, 0, 0, 0])\n",
    "eq21 = (C @ t_vec_diffdiff.subs(t, 0)) - sp.Matrix([0, 0, 0, 0])\n",
    "eq22 = (C @ t_vec_diffdiff.subs(t, 2)) - sp.Matrix([0, 0, 0, 0])\n",
    "eq23 = (D @ t_vec_diffdiff.subs(t, 0)) - sp.Matrix([0, 0, 0, 0])\n",
    "eq24 = (D @ t_vec_diffdiff.subs(t, 2)) - sp.Matrix([0, 0, 0, 0])\n",
    "\n",
    "# flatten all the equations\n",
    "for i in range(1, 25):\n",
    "    exec(f\"eq{i} = sp.flatten(eq{i})\")\n",
    "\n",
    "# solving the system of equations\n",
    "eqs = [eq1, eq2, eq3, eq4, eq5, eq6, eq7, eq8, eq9, eq10, eq11, eq12, eq13, eq14, eq15, eq16, eq17, eq18, eq19, eq20, eq21, eq22, eq23, eq24]\n",
    "\n",
    "# the eqs list has lists of equations inside, we need to flatten it\n",
    "eqs = [eq for sublist in eqs for eq in sublist]\n",
    "\n",
    "# Flatten the matrices into vectors\n",
    "variables = sp.flatten(A) + sp.flatten(B) + sp.flatten(C) + sp.flatten(D)\n",
    "\n",
    "# Solve for the individual elements\n",
    "sol = sp.solve(eqs, variables)\n",
    "\n",
    "# # Use numerical solver with initial guesses\n",
    "# sol2 = sp.nsolve(eqs, variables, [10]*len(variables))\n",
    "\n",
    "# # printing the numerical solution\n",
    "# sp.pprint(sol2)\n",
    "\n",
    "# assigning the solution to the matrices\n",
    "A_sol = sp.Matrix([[sol[sp.symbols(f'A{i}{j}')] for j in range(5, -1, -1)] for i in range(1, 5)])\n",
    "B_sol = sp.Matrix([[sol[sp.symbols(f'B{i}{j}')] for j in range(5, -1, -1)] for i in range(1, 5)])\n",
    "C_sol = sp.Matrix([[sol[sp.symbols(f'C{i}{j}')] for j in range(5, -1, -1)] for i in range(1, 5)])\n",
    "D_sol = sp.Matrix([[sol[sp.symbols(f'D{i}{j}')] for j in range(5, -1, -1)] for i in range(1, 5)])\n",
    "\n",
    "# printing the solution with 4 decimal places\n",
    "print(\"A:\")\n",
    "display(A_sol.evalf(4))\n",
    "print(\"B:\")\n",
    "display(B_sol.evalf(4))\n",
    "print(\"C:\")\n",
    "display(C_sol.evalf(4))\n",
    "print(\"D:\")\n",
    "display(D_sol.evalf(4))\n",
    "\n",
    "# make expressions for the polynomials\n",
    "\n",
    "# segment A\n",
    "q_A = A_sol * t_vec\n",
    "q_B = B_sol * t_vec\n",
    "q_C = C_sol * t_vec\n",
    "q_D = D_sol * t_vec\n",
    "\n",
    "# printing the expressions\n",
    "print(\"q_A:\")\n",
    "display(q_A.evalf(4))\n",
    "print(\"q_B:\")\n",
    "display(q_B.evalf(4))\n",
    "print(\"q_C:\")\n",
    "display(q_C.evalf(4))\n",
    "print(\"q_D:\")\n",
    "display(q_D.evalf(4))\n",
    "\n"
   ]
  },
  {
   "cell_type": "code",
   "execution_count": 36,
   "metadata": {},
   "outputs": [
    {
     "data": {
      "image/png": "[encoded data removed]",
      "text/plain": [
       "<Figure size 640x480 with 1 Axes>"
      ]
     },
     "metadata": {},
     "output_type": "display_data"
    }
   ],
   "source": [
    "t_vals = np.linspace(0, 2, 100)\n",
    "\n",
    "\n",
    "# transformation matrix for the end effector\n",
    "point_from_segment = lambda q : np.array([np.array(T_4[1:3,3].subs({theta0: q[0], theta1: q[1], theta2: q[2], theta3: q[3]}).subs({t:t_val})).ravel() for t_val in t_vals])\n",
    "\n",
    "#flatten the points\n",
    "points_A = point_from_segment(q_A)\n",
    "points_B = point_from_segment(q_B)\n",
    "points_C = point_from_segment(q_C)\n",
    "points_D = point_from_segment(q_D)\n",
    "\n",
    "import matplotlib.pyplot as plt\n",
    "plt.figure()\n",
    "plt.plot(points_A[:,0], points_A[:,1])\n",
    "plt.plot(points_B[:,0], points_B[:,1])\n",
    "plt.plot(points_C[:,0], points_C[:,1])\n",
    "plt.plot(points_D[:,0], points_D[:,1])\n",
    "plt.axis('equal')\n",
    "plt.show()\n",
    "\n"
   ]
  }
 ],
 "metadata": {
  "kernelspec": {
   "display_name": "base",
   "language": "python",
   "name": "python3"
  },
  "language_info": {
   "codemirror_mode": {
    "name": "ipython",
    "version": 3
   },
   "file_extension": ".py",
   "mimetype": "text/x-python",
   "name": "python",
   "nbconvert_exporter": "python",
   "pygments_lexer": "ipython3",
   "version": "3.12.4"
  }
 },
 "nbformat": 4,
 "nbformat_minor": 2
}
